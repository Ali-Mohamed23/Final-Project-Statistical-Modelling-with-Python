{
 "cells": [
  {
   "cell_type": "markdown",
   "metadata": {},
   "source": [
    "Build a regression model."
   ]
  },
  {
   "cell_type": "code",
   "execution_count": 2,
   "metadata": {},
   "outputs": [],
   "source": [
    "import numpy as np\n",
    "import pandas as pd\n",
    "from sklearn.linear_model import LinearRegression\n",
    "import statsmodels.api as sm"
   ]
  },
  {
   "cell_type": "code",
   "execution_count": 3,
   "metadata": {},
   "outputs": [],
   "source": [
    "import matplotlib.pyplot as plt"
   ]
  },
  {
   "cell_type": "code",
   "execution_count": 4,
   "metadata": {},
   "outputs": [],
   "source": [
    "bikes_combined = pd.read_csv('bikes_combined')"
   ]
  },
  {
   "cell_type": "code",
   "execution_count": 6,
   "metadata": {},
   "outputs": [],
   "source": [
    "from sklearn.linear_model import LinearRegression\n",
    "from sklearn.model_selection import train_test_split"
   ]
  },
  {
   "cell_type": "markdown",
   "metadata": {},
   "source": [
    "Provide model output and an interpretation of the results. "
   ]
  },
  {
   "cell_type": "code",
   "execution_count": 5,
   "metadata": {},
   "outputs": [
    {
     "name": "stdout",
     "output_type": "stream",
     "text": [
      "       free_bikes   latitude   longitude  bike_station     rating\n",
      "count   25.000000  25.000000   25.000000     25.000000  25.000000\n",
      "mean    11.000000  49.279085 -123.112666      3.000000   3.880000\n",
      "std      3.535534   0.007969    0.028260      1.443376   0.665833\n",
      "min      7.000000  49.266476 -123.139108      1.000000   1.500000\n",
      "25%      8.000000  49.274232 -123.129998      2.000000   4.000000\n",
      "50%     10.000000  49.281301 -123.124066      3.000000   4.000000\n",
      "75%     14.000000  49.285953 -123.109389      4.000000   4.000000\n",
      "max     16.000000  49.287464 -123.060771      5.000000   4.500000\n"
     ]
    }
   ],
   "source": [
    "print(bikes_combined.describe())"
   ]
  },
  {
   "cell_type": "code",
   "execution_count": 16,
   "metadata": {},
   "outputs": [],
   "source": [
    "X = bikes_combined[['bike_station', 'rating']]\n",
    "y = bikes_combined['free_bikes']\n",
    "X_train, X_test, y_train, y_test = train_test_split(X, y, test_size=0.2, random_state=0)"
   ]
  },
  {
   "cell_type": "code",
   "execution_count": 17,
   "metadata": {},
   "outputs": [],
   "source": [
    "X_train = sm.add_constant(X_train) \n",
    "model = sm.OLS(y_train, X_train).fit()"
   ]
  },
  {
   "cell_type": "code",
   "execution_count": 18,
   "metadata": {},
   "outputs": [
    {
     "name": "stdout",
     "output_type": "stream",
     "text": [
      "                            OLS Regression Results                            \n",
      "==============================================================================\n",
      "Dep. Variable:             free_bikes   R-squared:                       0.483\n",
      "Model:                            OLS   Adj. R-squared:                  0.422\n",
      "Method:                 Least Squares   F-statistic:                     7.948\n",
      "Date:                Mon, 24 Apr 2023   Prob (F-statistic):            0.00366\n",
      "Time:                        12:55:08   Log-Likelihood:                -46.922\n",
      "No. Observations:                  20   AIC:                             99.84\n",
      "Df Residuals:                      17   BIC:                             102.8\n",
      "Df Model:                           2                                         \n",
      "Covariance Type:            nonrobust                                         \n",
      "================================================================================\n",
      "                   coef    std err          t      P>|t|      [0.025      0.975]\n",
      "--------------------------------------------------------------------------------\n",
      "const            3.0692      5.330      0.576      0.572      -8.176      14.315\n",
      "bike_station     1.5801      0.433      3.646      0.002       0.666       2.494\n",
      "rating           0.8331      1.380      0.604      0.554      -2.078       3.744\n",
      "==============================================================================\n",
      "Omnibus:                        6.307   Durbin-Watson:                   1.701\n",
      "Prob(Omnibus):                  0.043   Jarque-Bera (JB):                4.922\n",
      "Skew:                           1.215   Prob(JB):                       0.0854\n",
      "Kurtosis:                       3.011   Cond. No.                         46.7\n",
      "==============================================================================\n",
      "\n",
      "Notes:\n",
      "[1] Standard Errors assume that the covariance matrix of the errors is correctly specified.\n"
     ]
    }
   ],
   "source": [
    "print(model.summary())"
   ]
  }
 ],
 "metadata": {
  "kernelspec": {
   "display_name": "Python 3 (ipykernel)",
   "language": "python",
   "name": "python3"
  },
  "language_info": {
   "codemirror_mode": {
    "name": "ipython",
    "version": 3
   },
   "file_extension": ".py",
   "mimetype": "text/x-python",
   "name": "python",
   "nbconvert_exporter": "python",
   "pygments_lexer": "ipython3",
   "version": "3.10.9"
  }
 },
 "nbformat": 4,
 "nbformat_minor": 4
}
